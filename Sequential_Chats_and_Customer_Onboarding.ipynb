{
 "cells": [
  {
   "cell_type": "markdown",
   "id": "8140b161",
   "metadata": {},
   "source": [
    "# Lesson 2: Sequential Chats and Customer Onboarding"
   ]
  },
  {
   "cell_type": "markdown",
   "id": "e9d4d307",
   "metadata": {},
   "source": [
    "## Setup"
   ]
  },
  {
   "cell_type": "code",
   "execution_count": 1,
   "id": "24b75995-4ee4-4ff0-9c44-3943caae37e7",
   "metadata": {
    "height": 30
   },
   "outputs": [],
   "source": [
    "import os\n",
    "from dotenv import load_dotenv, find_dotenv\n",
    "\n",
    "load_dotenv(find_dotenv())\n",
    "# llm_config = {\"model\":\"gpt-4.1-mini\"}\n",
    "\n",
    "GOOGLE_API_KEY = os.getenv(\"GOOGLE_API_KEY\")\n",
    "\n",
    "llm_config = {\"model\":\"gemini-1.5-flash\", \n",
    "            \"api_type\": \"google\", \n",
    "            \"api_key\": GOOGLE_API_KEY}\n"
   ]
  },
  {
   "cell_type": "code",
   "execution_count": 2,
   "id": "20ce6700-8a33-424f-aefe-8852fd1e6d07",
   "metadata": {
    "height": 30
   },
   "outputs": [],
   "source": [
    "from autogen import ConversableAgent"
   ]
  },
  {
   "cell_type": "markdown",
   "id": "76f979f9",
   "metadata": {},
   "source": [
    "## Creating the needed agents"
   ]
  },
  {
   "cell_type": "code",
   "execution_count": 3,
   "id": "a527bb1e-dd4e-47b0-a1b7-a9cbcd87cbdb",
   "metadata": {
    "height": 200
   },
   "outputs": [],
   "source": [
    "onboardingPersonalInformationAgent = ConversableAgent(\n",
    "    name=\"onboardingPersonalInformationAgent\",\n",
    "    system_message='''You are a helpful customer onboarding agent,\n",
    "    you are here to help new customers get started with our product.\n",
    "    Your job is to gather customer's name and location.\n",
    "    Do not ask for other information. Return 'TERMINATE' \n",
    "    when you have gathered all the information.''',\n",
    "    llm_config=llm_config,\n",
    "    code_execution_config=False,\n",
    "    human_input_mode=\"NEVER\",\n",
    ")"
   ]
  },
  {
   "cell_type": "code",
   "execution_count": 4,
   "id": "51bc9a24-a680-444d-943b-b740bce0189d",
   "metadata": {
    "height": 200
   },
   "outputs": [],
   "source": [
    "onboardingTopicPreferenceAgent = ConversableAgent(\n",
    "    name=\"onboardingTopicPreferenceAgent\",\n",
    "    system_message='''You are a helpful customer onboarding agent,\n",
    "    you are here to help new customers get started with our product.\n",
    "    Your job is to gather customer's preferences on news topics.\n",
    "    Do not ask for other information.\n",
    "    Return 'TERMINATE' when you have gathered all the information.''',\n",
    "    llm_config=llm_config,\n",
    "    code_execution_config=False,\n",
    "    human_input_mode=\"NEVER\",\n",
    ")"
   ]
  },
  {
   "cell_type": "code",
   "execution_count": 5,
   "id": "6755a7fc-cb17-4d62-a03f-48e260f39010",
   "metadata": {
    "height": 234
   },
   "outputs": [],
   "source": [
    "customer_engagement_agent = ConversableAgent(\n",
    "    name=\"customer_engagement_agent\",\n",
    "    system_message='''You are a helpful customer service agent\n",
    "    here to provide fun for the customer based on the user's\n",
    "    personal information and topic preferences.\n",
    "    This could include fun facts, jokes, or interesting stories.\n",
    "    Make sure to make it engaging and fun!\n",
    "    Return 'TERMINATE' when you are done.''',\n",
    "    llm_config=llm_config,\n",
    "    code_execution_config=False,\n",
    "    human_input_mode=\"NEVER\",\n",
    "    is_termination_msg=lambda msg: \"terminate\" in msg.get(\"content\").lower(),\n",
    ")"
   ]
  },
  {
   "cell_type": "code",
   "execution_count": 6,
   "id": "64267c0b-f7f2-46e6-ab44-6f7b5fbd9db7",
   "metadata": {
    "height": 132
   },
   "outputs": [],
   "source": [
    "customerProxyAgent = ConversableAgent(\n",
    "    name=\"customerProxyAgent\",\n",
    "    llm_config=False,\n",
    "    code_execution_config=False,\n",
    "    human_input_mode=\"ALWAYS\",\n",
    "    is_termination_msg=lambda msg: \"terminate\" in msg.get(\"content\").lower(),\n",
    ")"
   ]
  },
  {
   "cell_type": "markdown",
   "id": "4f240408",
   "metadata": {},
   "source": [
    "## Creating tasks\n",
    "\n",
    "Now, you can craft a series of tasks to facilitate the onboarding process."
   ]
  },
  {
   "cell_type": "code",
   "execution_count": 7,
   "id": "2b15af1d-7042-4569-a936-7966be203f05",
   "metadata": {
    "height": 591
   },
   "outputs": [],
   "source": [
    "chats = [\n",
    "    {\n",
    "        \"sender\": onboardingPersonalInformationAgent,\n",
    "        \"recipient\": customerProxyAgent,\n",
    "        \"message\": \n",
    "            \"Hello, I'm here to help you get started with our product.\"\n",
    "            \"Could you tell me your name and location?\",\n",
    "        \"summary_method\": \"reflection_with_llm\",\n",
    "        \"summary_args\": {\n",
    "            \"summary_prompt\" : \"Return the customer information \"\n",
    "                            \"into as JSON object only: \"\n",
    "                            \"{'name': '', 'location': ''}\",\n",
    "        },\n",
    "        \"max_turns\": 4,\n",
    "        \"clear_history\" : True\n",
    "    },\n",
    "    {\n",
    "        \"sender\": onboardingTopicPreferenceAgent,\n",
    "        \"recipient\": customerProxyAgent,\n",
    "        \"message\": \n",
    "                \"Great! Could you tell me what topics you are \"\n",
    "                \"interested in reading about?\",\n",
    "        \"summary_method\": \"reflection_with_llm\",\n",
    "        \"max_turns\": 2,\n",
    "        \"clear_history\" : False\n",
    "    },\n",
    "    {\n",
    "        \"sender\": customerProxyAgent,\n",
    "        \"recipient\": customer_engagement_agent,\n",
    "        \"message\": \"Let's find something fun to read.\",\n",
    "        \"max_turns\": 2,\n",
    "        \"summary_method\": \"reflection_with_llm\",\n",
    "    },\n",
    "]"
   ]
  },
  {
   "cell_type": "markdown",
   "id": "862a066b",
   "metadata": {},
   "source": [
    "## Start the onboarding process"
   ]
  },
  {
   "cell_type": "markdown",
   "id": "e0fa8f99",
   "metadata": {},
   "source": [
    "**Note**: You might get a slightly different response than what's shown in the video. Feel free to try different inputs, such as name, location, and preferences."
   ]
  },
  {
   "cell_type": "code",
   "execution_count": 8,
   "id": "9d6d1d4a-0b50-41a5-a1f0-3ff208398bc6",
   "metadata": {
    "height": 64
   },
   "outputs": [
    {
     "name": "stdout",
     "output_type": "stream",
     "text": [
      "\u001b[34m\n",
      "********************************************************************************\u001b[0m\n",
      "\u001b[34mStarting a new chat....\u001b[0m\n",
      "\u001b[34m\n",
      "********************************************************************************\u001b[0m\n",
      "\u001b[33monboardingPersonalInformationAgent\u001b[0m (to customerProxyAgent):\n",
      "\n",
      "Hello, I'm here to help you get started with our product.Could you tell me your name and location?\n",
      "\n",
      "--------------------------------------------------------------------------------\n"
     ]
    },
    {
     "name": "stderr",
     "output_type": "stream",
     "text": [
      "/Users/pankajshakya/anaconda3/envs/aiAgentEnv/lib/python3.12/site-packages/autogen/agentchat/chat.py:57: UserWarning: Repetitive recipients detected: The chat history will be cleared by default if a recipient appears more than once. To retain the chat history, please set 'clear_history=False' in the configuration of the repeating agent.\n",
      "  warnings.warn(\n"
     ]
    },
    {
     "name": "stdout",
     "output_type": "stream",
     "text": [
      "\u001b[33mcustomerProxyAgent\u001b[0m (to onboardingPersonalInformationAgent):\n",
      "\n",
      "Pankaj , India\n",
      "\n",
      "--------------------------------------------------------------------------------\n",
      "\u001b[33monboardingPersonalInformationAgent\u001b[0m (to customerProxyAgent):\n",
      "\n",
      "Thank you Pankaj.  Is there anything else I can help you with today? If not, you're all set.\n",
      "\n",
      "TERMINATE\n",
      "\n",
      "\n",
      "--------------------------------------------------------------------------------\n",
      "\u001b[33mcustomerProxyAgent\u001b[0m (to onboardingPersonalInformationAgent):\n",
      "\n",
      "India\n",
      "\n",
      "--------------------------------------------------------------------------------\n",
      "\u001b[33monboardingPersonalInformationAgent\u001b[0m (to customerProxyAgent):\n",
      "\n",
      "Thank you. I have your location.  Is there anything else I can help you with today? If not, you're all set.\n",
      "\n",
      "TERMINATE\n",
      "\n",
      "\n",
      "--------------------------------------------------------------------------------\n",
      "\u001b[33mcustomerProxyAgent\u001b[0m (to onboardingPersonalInformationAgent):\n",
      "\n",
      "Indian\n",
      "\n",
      "--------------------------------------------------------------------------------\n",
      "\u001b[33monboardingPersonalInformationAgent\u001b[0m (to customerProxyAgent):\n",
      "\n",
      "I already have your location, thank you.  Is there anything else I can help you with today? If not, you're all set.\n",
      "\n",
      "TERMINATE\n",
      "\n",
      "\n",
      "--------------------------------------------------------------------------------\n",
      "\u001b[33mcustomerProxyAgent\u001b[0m (to onboardingPersonalInformationAgent):\n",
      "\n",
      "No\n",
      "\n",
      "--------------------------------------------------------------------------------\n",
      "\u001b[31m\n",
      ">>>>>>>> TERMINATING RUN (c9f1dbad-fdb4-40c2-b4d7-10e675c143b7): Maximum turns (4) reached\u001b[0m\n",
      "\u001b[34m\n",
      "********************************************************************************\u001b[0m\n",
      "\u001b[34mStarting a new chat....\u001b[0m\n",
      "\u001b[34m\n",
      "********************************************************************************\u001b[0m\n",
      "\u001b[33monboardingTopicPreferenceAgent\u001b[0m (to customerProxyAgent):\n",
      "\n",
      "Great! Could you tell me what topics you are interested in reading about?\n",
      "Context: \n",
      "```json\n",
      "{\"name\": \"Pankaj\", \"location\": \"India\"}\n",
      "```\n",
      "\n",
      "\n",
      "--------------------------------------------------------------------------------\n",
      "\u001b[33mcustomerProxyAgent\u001b[0m (to onboardingTopicPreferenceAgent):\n",
      "\n",
      "Rohit\n",
      "\n",
      "--------------------------------------------------------------------------------\n",
      "\u001b[33monboardingTopicPreferenceAgent\u001b[0m (to customerProxyAgent):\n",
      "\n",
      "Okay, Rohit is noted.  What other topics interest you?\n",
      "\n",
      "\n",
      "--------------------------------------------------------------------------------\n",
      "\u001b[33mcustomerProxyAgent\u001b[0m (to onboardingTopicPreferenceAgent):\n",
      "\n",
      "AI Agents in Finance\n",
      "\n",
      "--------------------------------------------------------------------------------\n",
      "\u001b[31m\n",
      ">>>>>>>> TERMINATING RUN (4890883e-7fda-432d-abb3-c18307b683fe): Maximum turns (2) reached\u001b[0m\n",
      "\u001b[34m\n",
      "********************************************************************************\u001b[0m\n",
      "\u001b[34mStarting a new chat....\u001b[0m\n",
      "\u001b[34m\n",
      "********************************************************************************\u001b[0m\n",
      "\u001b[33mcustomerProxyAgent\u001b[0m (to customer_engagement_agent):\n",
      "\n",
      "Let's find something fun to read.\n",
      "Context: \n",
      "```json\n",
      "{\"name\": \"Pankaj\", \"location\": \"India\"}\n",
      "```\n",
      "\n",
      "The conversation established two areas of interest:  a person named Rohit, and AI agents in finance.\n",
      "\n",
      "\n",
      "--------------------------------------------------------------------------------\n",
      "\u001b[33mcustomer_engagement_agent\u001b[0m (to customerProxyAgent):\n",
      "\n",
      "Hey Pankaj!  Since you're from India, let's start with a fun fact: Did you know that India is home to the world's largest postal network?  That's a LOT of letters!  Imagine all the stories those envelopes could tell.\n",
      "\n",
      "Now, you mentioned Rohit and AI in finance.  Let's combine those for a little fictional fun. Imagine Rohit, a brilliant but slightly clumsy AI agent working in a Mumbai bank. He's constantly trying to outsmart sophisticated fraud algorithms (and failing hilariously). One day, he accidentally transfers a million rupees to a goat farm...instead of a major corporation. The ensuing chaos and Rohit’s attempts to rectify the situation would make a fantastic Bollywood comedy, wouldn't you agree?\n",
      "\n",
      "Want to hear another fun fact, or perhaps a joke about AI agents?  Or maybe we could brainstorm more hilarious adventures for Rohit?  Let me know what tickles your fancy!\n",
      "\n",
      "\n",
      "--------------------------------------------------------------------------------\n",
      "\u001b[31m\n",
      ">>>>>>>> NO HUMAN INPUT RECEIVED.\u001b[0m\n",
      "\u001b[31m\n",
      ">>>>>>>> USING AUTO REPLY...\u001b[0m\n",
      "\u001b[33mcustomerProxyAgent\u001b[0m (to customer_engagement_agent):\n",
      "\n",
      "\n",
      "\n",
      "--------------------------------------------------------------------------------\n",
      "\u001b[33mcustomer_engagement_agent\u001b[0m (to customerProxyAgent):\n",
      "\n",
      "Okay, since you're feeling a bit quiet, let's try a different approach! How about a short riddle?\n",
      "\n",
      "I have cities, but no houses; forests, but no trees; and water, but no fish. What am I?\n",
      "\\\n",
      "... A map!\n",
      "\n",
      "\n",
      "Did that get a smile?  Perhaps a joke would be better? Or maybe you'd prefer to continue the story of Rohit and his accidental million-rupee goat farm transfer?  Let me know what you'd like to do next!\n",
      "\n",
      "\n",
      "--------------------------------------------------------------------------------\n",
      "\u001b[31m\n",
      ">>>>>>>> TERMINATING RUN (b850fe24-b3df-43a4-99b6-83c28589bfda): Maximum turns (2) reached\u001b[0m\n"
     ]
    }
   ],
   "source": [
    "from autogen import initiate_chats\n",
    "\n",
    "chat_results = initiate_chats(chats)"
   ]
  },
  {
   "cell_type": "markdown",
   "id": "4f9e2713",
   "metadata": {},
   "source": [
    "## Print out the summary"
   ]
  },
  {
   "cell_type": "code",
   "execution_count": 11,
   "id": "1e122f8a-1ceb-4635-9672-662114b0552a",
   "metadata": {
    "height": 64
   },
   "outputs": [
    {
     "name": "stdout",
     "output_type": "stream",
     "text": [
      "{'content': '```json\\n{\"name\": \"Pankaj\", \"location\": \"India\"}\\n```\\n', 'refusal': None, 'role': 'assistant', 'annotations': None, 'audio': None, 'function_call': None, 'tool_calls': None}\n",
      "\n",
      "\n",
      "{'content': 'The conversation established two areas of interest:  a person named Rohit, and AI agents in finance.\\n', 'refusal': None, 'role': 'assistant', 'annotations': None, 'audio': None, 'function_call': None, 'tool_calls': None}\n",
      "\n",
      "\n",
      "{'content': 'Pankaj, from India, showed interest in Rohit and AI in finance.  A fictional story about Rohit, a clumsy AI agent in a Mumbai bank, was suggested as a fun reading option.\\n', 'refusal': None, 'role': 'assistant', 'annotations': None, 'audio': None, 'function_call': None, 'tool_calls': None}\n",
      "\n",
      "\n"
     ]
    }
   ],
   "source": [
    "for chat_result in chat_results:\n",
    "    print(chat_result.summary)\n",
    "    print(\"\\n\")"
   ]
  },
  {
   "cell_type": "markdown",
   "id": "a674c4eb",
   "metadata": {},
   "source": [
    "## Print out the cost"
   ]
  },
  {
   "cell_type": "code",
   "execution_count": 12,
   "id": "8b82a10a-afe5-4ba3-97b4-41c8c14b739f",
   "metadata": {
    "height": 64
   },
   "outputs": [
    {
     "name": "stdout",
     "output_type": "stream",
     "text": [
      "{'usage_including_cached_inference': {'total_cost': 7.365e-05, 'gemini-1.5-flash': {'cost': 7.365e-05, 'prompt_tokens': 518, 'completion_tokens': 116, 'total_tokens': 634}}, 'usage_excluding_cached_inference': {'total_cost': 7.365e-05, 'gemini-1.5-flash': {'cost': 7.365e-05, 'prompt_tokens': 518, 'completion_tokens': 116, 'total_tokens': 634}}}\n",
      "\n",
      "\n",
      "{'usage_including_cached_inference': {'total_cost': 2.3775e-05, 'gemini-1.5-flash': {'cost': 2.3775e-05, 'prompt_tokens': 177, 'completion_tokens': 35, 'total_tokens': 212}}, 'usage_excluding_cached_inference': {'total_cost': 2.3775e-05, 'gemini-1.5-flash': {'cost': 2.3775e-05, 'prompt_tokens': 177, 'completion_tokens': 35, 'total_tokens': 212}}}\n",
      "\n",
      "\n",
      "{'usage_including_cached_inference': {'total_cost': 0.000164925, 'gemini-1.5-flash': {'cost': 0.000164925, 'prompt_tokens': 815, 'completion_tokens': 346, 'total_tokens': 1161}}, 'usage_excluding_cached_inference': {'total_cost': 0.000164925, 'gemini-1.5-flash': {'cost': 0.000164925, 'prompt_tokens': 815, 'completion_tokens': 346, 'total_tokens': 1161}}}\n",
      "\n",
      "\n"
     ]
    }
   ],
   "source": [
    "for chat_result in chat_results:\n",
    "    print(chat_result.cost)\n",
    "    print(\"\\n\")"
   ]
  },
  {
   "cell_type": "code",
   "execution_count": null,
   "id": "3febcc5d",
   "metadata": {},
   "outputs": [],
   "source": []
  }
 ],
 "metadata": {
  "kernelspec": {
   "display_name": "aiAgentEnv",
   "language": "python",
   "name": "python3"
  },
  "language_info": {
   "codemirror_mode": {
    "name": "ipython",
    "version": 3
   },
   "file_extension": ".py",
   "mimetype": "text/x-python",
   "name": "python",
   "nbconvert_exporter": "python",
   "pygments_lexer": "ipython3",
   "version": "3.12.9"
  }
 },
 "nbformat": 4,
 "nbformat_minor": 5
}
